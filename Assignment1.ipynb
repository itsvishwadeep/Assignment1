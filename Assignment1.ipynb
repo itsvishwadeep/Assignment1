{
 "cells": [
  {
   "cell_type": "markdown",
   "id": "1ebbddc7-62d2-47ba-bc96-9f3eaf22b302",
   "metadata": {},
   "source": [
    "### Problem 1: Write a program that will give you in hand monthly salary after deduction on CTC - HRA(10%), DA(5%), PF(3%) and taxes deduction as below:\n",
    "Salary(Lakhs) : Tax(%)\n",
    "\n",
    "Below 5 : 0%\n",
    "\n",
    "5-10 : 10%\n",
    "\n",
    "10-20 : 20%\n",
    "\n",
    "aboove 20 : 30%"
   ]
  },
  {
   "cell_type": "code",
   "execution_count": 2,
   "id": "e54bdce8-73a6-420d-b384-27f26f590d29",
   "metadata": {},
   "outputs": [
    {
     "name": "stdin",
     "output_type": "stream",
     "text": [
      "Enter monthly salary (in lakhs) :  5000000\n"
     ]
    },
    {
     "name": "stdout",
     "output_type": "stream",
     "text": [
      "In-hand monthly salary : ₹42000000.00\n"
     ]
    }
   ],
   "source": [
    "def calculate_in_hand_salary(salary_in_lakhs):\n",
    "    #constant for tax rates\n",
    "    TAX_RATES = {\n",
    "        \"Below 5\":0.0,\n",
    "        \"5-10\":0.10,\n",
    "        \"10-20\":0.20,\n",
    "        \"Above 20\":0.30,\n",
    "    }\n",
    "\n",
    "    # Calculate CTC components\n",
    "    basic_salary_ratio = 0.6\n",
    "    hra_ratio = 0.05\n",
    "    da_ratio = 0.05\n",
    "    pf_ratio = 0.3\n",
    "    gratuity_ratio = 0.0\n",
    "    \n",
    "    ctc = (salary_in_lakhs * basic_salary_ratio +\n",
    "           salary_in_lakhs * hra_ratio + \n",
    "           salary_in_lakhs * da_ratio +\n",
    "           salary_in_lakhs * pf_ratio) * 12\n",
    "    \n",
    "    if salary_in_lakhs < 5:\n",
    "        tax_rate = TAX_RATES[\"Below 5\"]\n",
    "    elif 5<= salary_in_lakhs < 10:\n",
    "        tax_rate = TAX_RATES[\"5-10\"]\n",
    "    elif 10 <= salary_in_lakhs < 20:\n",
    "        tax_rate = TAX_RATES[\"10-20\"]\n",
    "    else:\n",
    "        tax_rate = TAX_RATES[\"Above 20\"]\n",
    "\n",
    "    # Calculte net take-home salary\n",
    "    taxes = ctc * tax_rate\n",
    "    net_salary = ctc - taxes\n",
    "\n",
    "    return net_salary\n",
    "\n",
    "#usage\n",
    "monthly_salary = float(input(\"Enter monthly salary (in lakhs) : \"))\n",
    "in_hand_salary = calculate_in_hand_salary(monthly_salary)\n",
    "print(f\"In-hand monthly salary : ₹{ in_hand_salary:.2f}\")\n",
    "    "
   ]
  },
  {
   "cell_type": "markdown",
   "id": "503570f1-5e2c-4a24-bf13-9dce4969ab11",
   "metadata": {},
   "source": [
    "### Write a program that take a user input of three angles and will find out whether it can form a triangle or not."
   ]
  },
  {
   "cell_type": "code",
   "execution_count": 4,
   "id": "53de631f-0e7c-404f-bfbd-27f18b9f69a7",
   "metadata": {},
   "outputs": [
    {
     "name": "stdin",
     "output_type": "stream",
     "text": [
      "Enter the value of first angle 45\n",
      "Enter the value of second angle 45\n",
      "Enter the value of third angle 90\n"
     ]
    },
    {
     "name": "stdout",
     "output_type": "stream",
     "text": [
      "The triangle can be formed  with 45 , 45, 90 \n"
     ]
    }
   ],
   "source": [
    "def is_triangle(angle1, angle2, angle3):\n",
    "    if angle1+angle2+angle3 == 180:\n",
    "        print(f\"The triangle can be formed  with {angle1} , {angle2}, {angle3} \")\n",
    "    else:\n",
    "        print(f\" Cannot form triangle with {angle1}, {angle2}, {angle3}\")\n",
    "\n",
    "angle1 = int(input(\"Enter the value of first angle\"))\n",
    "angle2 = int(input(\"Enter the value of second angle\"))\n",
    "angle3 = int(input(\"Enter the value of third angle\"))\n",
    "\n",
    "is_triangle(angle1,angle2,angle3)\n"
   ]
  },
  {
   "cell_type": "markdown",
   "id": "9711d825-c208-45ba-aaa9-323525ea7200",
   "metadata": {},
   "source": [
    "### Write a program that will take user input of cost price and selling price and determines whether its a loss or a profit."
   ]
  },
  {
   "cell_type": "code",
   "execution_count": 6,
   "id": "3a7f512c-cd65-44e4-9bfe-ae347486a61d",
   "metadata": {},
   "outputs": [
    {
     "name": "stdin",
     "output_type": "stream",
     "text": [
      "Enter the product cost price in ₹ 23\n",
      "Enter the product sell price in ₹ 43\n"
     ]
    },
    {
     "name": "stdout",
     "output_type": "stream",
     "text": [
      "Its profit of 20 ₹\n"
     ]
    }
   ],
   "source": [
    "def loss_profit_calculate(cost_price,sell_price):\n",
    "    if sell_price > cost_price:\n",
    "         print(f\"Its profit of {sell_price - cost_price} ₹\")\n",
    "    else:\n",
    "        print(f\"Its loss of {cost_price-sell_price} ₹\")\n",
    "       \n",
    "\n",
    "cost_price = int(input(\"Enter the product cost price in ₹\"))\n",
    "sell_price = int(input(\"Enter the product sell price in ₹\"))\n",
    "loss_profit_calculate(cost_price, sell_price)"
   ]
  },
  {
   "cell_type": "markdown",
   "id": "666bb11a-0d27-47da-8d64-4d6b3d9e4a32",
   "metadata": {},
   "source": [
    "### Problem 4: Write a menu-driven program -\n",
    "1.cm to ft\n",
    "2.km to miles\n",
    "3.USD to INR\n",
    "4.exit"
   ]
  },
  {
   "cell_type": "code",
   "execution_count": 14,
   "id": "077fac3a-1cbe-4766-ae6f-4683705e7b96",
   "metadata": {},
   "outputs": [
    {
     "name": "stdout",
     "output_type": "stream",
     "text": [
      "Menu:\n",
      "1. Convert cm to ft\n",
      "2. Convert km to miles\n",
      "3. Convert USD to INR\n",
      "4. Exit\n"
     ]
    },
    {
     "name": "stdin",
     "output_type": "stream",
     "text": [
      "Enter your choice (1/2/3/4):  1\n",
      "Enter length in centimeters:  12\n"
     ]
    },
    {
     "name": "stdout",
     "output_type": "stream",
     "text": [
      "12.0 cm is approximately 0.39 feet.\n",
      "Menu:\n",
      "1. Convert cm to ft\n",
      "2. Convert km to miles\n",
      "3. Convert USD to INR\n",
      "4. Exit\n"
     ]
    },
    {
     "name": "stdin",
     "output_type": "stream",
     "text": [
      "Enter your choice (1/2/3/4):  2\n",
      "Enter distance in kilometers:  3\n"
     ]
    },
    {
     "name": "stdout",
     "output_type": "stream",
     "text": [
      "3.0 km is approximately 1.86 miles.\n",
      "Menu:\n",
      "1. Convert cm to ft\n",
      "2. Convert km to miles\n",
      "3. Convert USD to INR\n",
      "4. Exit\n"
     ]
    },
    {
     "name": "stdin",
     "output_type": "stream",
     "text": [
      "Enter your choice (1/2/3/4):  4\n"
     ]
    },
    {
     "name": "stdout",
     "output_type": "stream",
     "text": [
      "Exiting the program. Have a great day!\n"
     ]
    }
   ],
   "source": [
    "def cm_to_ft(cm):\n",
    "    return cm / 30.48\n",
    "\n",
    "def km_to_miles(km):\n",
    "    return km * 0.621371\n",
    "\n",
    "def usd_to_inr(usd):\n",
    "    return usd * 74.5  # Assuming an exchange rate of 1 USD = 74.5 INR\n",
    "\n",
    "while True:\n",
    "    print(\"Menu:\")\n",
    "    print(\"1. Convert cm to ft\")\n",
    "    print(\"2. Convert km to miles\")\n",
    "    print(\"3. Convert USD to INR\")\n",
    "    print(\"4. Exit\")\n",
    "    \n",
    "    choice = int(input(\"Enter your choice (1/2/3/4): \"))\n",
    "    \n",
    "    if choice == 1:\n",
    "        cm = float(input(\"Enter length in centimeters: \"))\n",
    "        print(f\"{cm} cm is approximately {cm_to_ft(cm):.2f} feet.\")\n",
    "    elif choice == 2:\n",
    "        km = float(input(\"Enter distance in kilometers: \"))\n",
    "        print(f\"{km} km is approximately {km_to_miles(km):.2f} miles.\")\n",
    "    elif choice == 3:\n",
    "        usd = float(input(\"Enter amount in USD: \"))\n",
    "        print(f\"{usd} USD is approximately {usd_to_inr(usd):.2f} INR.\")\n",
    "    elif choice == 4:\n",
    "        print(\"Exiting the program. Have a great day!\")\n",
    "        break\n",
    "    else:\n",
    "        print(\"Invalid choice. Please select a valid option (1/2/3/4).\")\n"
   ]
  },
  {
   "cell_type": "markdown",
   "id": "6318f397-4949-46ac-9466-957b095afabe",
   "metadata": {},
   "source": [
    "### Problem 5 - Exercise 12: Display Fibonacci series up to 10 terms.\n",
    "Note: The Fibonacci Sequence is a series of numbers. The next number is found by adding up the two numbers before it. The first two numbers are 0 and 1. For example, 0, 1, 1, 2, 3, 5, 8, 13, 21. The next number in this series above is 13+21 = 34"
   ]
  },
  {
   "cell_type": "code",
   "execution_count": null,
   "id": "c48932c6-bcdf-4b32-9772-798f751e96cc",
   "metadata": {},
   "outputs": [],
   "source": [
    "def fibo(n):\n",
    "    fibo_series = [0,1]\n",
    "    for i in range(2,n):\n",
    "        next_term = fibo_series[-1] + fibo_series[-2]\n",
    "        fibo_series.append(next_term)\n",
    "    return fibo_series\n",
    "\n",
    "n_term = 15\n",
    "fibo_terms = fibo(n_term)\n",
    "\n",
    "print(\"Fibonacci series up to 10 terms : \")\n",
    "for term in fibo_terms:\n",
    "    print(term, end=\", \")"
   ]
  },
  {
   "cell_type": "markdown",
   "id": "96eb6e63-3803-4d91-83e4-e25e92c8a64d",
   "metadata": {},
   "source": [
    "### Problem 6 - Find the factorial of a given number.\n",
    "Write a program to use the loop to find the factorial of a given number.\n",
    "\n",
    "The factorial (symbol: !) means to multiply all whole numbers from the chosen number down to 1.\n",
    "\n",
    "For example: calculate the factorial of 5"
   ]
  },
  {
   "cell_type": "code",
   "execution_count": null,
   "id": "499c4f78-2a83-4c77-94aa-e08b76bbc8e8",
   "metadata": {},
   "outputs": [],
   "source": [
    "def fact(n):\n",
    "    res = 1\n",
    "    for i in range(1, n + 1):\n",
    "        res *= i\n",
    "    return res\n",
    "\n",
    "num = int(input(\" Enter a positive number : \" ))\n",
    "if num < 0 :\n",
    "    print(\" Factorial is not definedd for negative number. \")\n",
    "else:\n",
    "    print(f\" The factorial of {num} is {fact(num)}\") \n",
    "    \n",
    "    "
   ]
  },
  {
   "cell_type": "markdown",
   "id": "b5363184-f264-4535-9471-ddb97a1b1208",
   "metadata": {},
   "source": [
    "### Problem 7 - Reverse a given integer number."
   ]
  },
  {
   "cell_type": "code",
   "execution_count": null,
   "id": "cde6d30e-ea41-451e-a461-5c13d6639bb0",
   "metadata": {},
   "outputs": [],
   "source": [
    "def rev(num):\n",
    "    OG_num = num\n",
    "    reverse = 0\n",
    "    for i in str(num):\n",
    "        digit = num % 10\n",
    "        reverse = reverse * 10 + digit\n",
    "        num //=10\n",
    "    return reverse\n",
    "\n",
    "OG_Num = 1209\n",
    "reversed_num = rev(OG_Num)\n",
    "print(f\"Original number : {OG_Num} \")\n",
    "print(f\"Reversed number : {reversed_num}\")"
   ]
  },
  {
   "cell_type": "markdown",
   "id": "6b78f85c-794b-4de2-aa9e-d38da43e1fcf",
   "metadata": {},
   "source": [
    "### Problem 8: Take a user input as integer N. Find out the sum from 1 to N. If any number if divisible by 5, then skip that number. And if the sum is greater than 300, don't need to calculate the sum further more. Print the final result. And don't use for loop to solve this problem."
   ]
  },
  {
   "cell_type": "code",
   "execution_count": null,
   "id": "daecba4c-2fb2-4a16-836e-d281886d7d7a",
   "metadata": {},
   "outputs": [],
   "source": [
    "def sum_up_to_N(N, current_sum=0):\n",
    "    # Base case: if N is 0, return the current sum\n",
    "    if N == 0:\n",
    "        return current_sum\n",
    "    \n",
    "    # Check if current_sum exceeds 300\n",
    "    if current_sum > 300:\n",
    "        return current_sum\n",
    "    \n",
    "    # Check if the current number (N) is divisible by 5\n",
    "    if N % 5 == 0:\n",
    "        # If divisible by 5, skip this number and recurse with N-1\n",
    "        return sum_up_to_N(N-1, current_sum)\n",
    "    else:\n",
    "        # Otherwise, add N to current_sum and recurse with N-1\n",
    "        return sum_up_to_N(N-1, current_sum + N)\n",
    "\n",
    "def main():\n",
    "    # Take user input for N\n",
    "    N = int(input(\"Enter an integer N: \"))\n",
    "    \n",
    "    # Calculate the sum using the defined function\n",
    "    final_sum = sum_up_to_N(N)\n",
    "    \n",
    "    # Print the final result\n",
    "    print(\"Sum from 1 to N (skipping multiples of 5 and stopping at sum > 300):\", final_sum)\n",
    "\n",
    "if __name__ == \"__main__\":\n",
    "    main()\n"
   ]
  },
  {
   "cell_type": "markdown",
   "id": "0515e702-7701-4f39-aa6c-c669395033e4",
   "metadata": {},
   "source": [
    "### Problem 9: Write a program that keeps on accepting a number from the user until the user enters Zero. Display the sum and average of all the numbers."
   ]
  },
  {
   "cell_type": "code",
   "execution_count": null,
   "id": "312b3b8e-3ca7-448c-9a23-0df4ee12fba4",
   "metadata": {},
   "outputs": [],
   "source": [
    " def main():\n",
    "    total_sum =0\n",
    "    count= 0\n",
    "    while True:\n",
    "        try:\n",
    "            num = float(input(\"Enter a number (or 0 to exit) : \"))\n",
    "            if num == 0:\n",
    "                break\n",
    "            total_sum +=num\n",
    "            count += 1\n",
    "        except ValueEerror:\n",
    "            print(\"Invalid input. Please enter a valid number.\")\n",
    "\n",
    "    if count > 0:\n",
    "        average = total_sum / count\n",
    "        print(f\"Sum of entered numbers: {total_sum:.2f} \")\n",
    "        print(f\"Average of entered numbers: {average:.2f} \")\n",
    "    else:\n",
    "        print(\"No Valid number entered .\")\n",
    "\n",
    "if __name__ == \"__main__\":\n",
    "    main()"
   ]
  },
  {
   "cell_type": "markdown",
   "id": "9f015731-0111-4044-ab5b-4a5238e96c3c",
   "metadata": {},
   "source": [
    "### Problem 9: Write a program which will find all such numbers which are divisible by 7 but are not a multiple of 5, between 2000 and 3200 (both included). The numbers obtained should be printed in a comma-separated sequence on a single line."
   ]
  },
  {
   "cell_type": "code",
   "execution_count": null,
   "id": "63743f32-526c-4645-baf2-b6442d5f12da",
   "metadata": {},
   "outputs": [],
   "source": [
    "def find_nums(lower_lim,upper_lim):\n",
    "    res = []\n",
    "    for i in range(lower_lim,upper_lim+1):\n",
    "        if(i % 7 == 0) and (i % 5 != 0):\n",
    "            res.append(i)\n",
    "    return res\n",
    "\n",
    "lower_lim = 2000\n",
    "upper_lim= 3200\n",
    "found_num= find_nums(lower_lim,upper_lim)\n",
    "print(\"The numbers that  are divisible by 7 but not by 5 are: \" )\n",
    "print(*found_num,sep=\",\")\n"
   ]
  },
  {
   "cell_type": "markdown",
   "id": "037a7dd3-a417-4963-92ab-6df037b80a22",
   "metadata": {},
   "source": [
    "### Problem 10: Write a program, which will find all such numbers between 1000 and 3000 (both included) such that each digit of the number is an even number. The numbers obtained should be printed in a space-separated sequence on a single line.\n"
   ]
  },
  {
   "cell_type": "code",
   "execution_count": null,
   "id": "735ccc52-b0fc-49fb-aaae-fc4714512a24",
   "metadata": {},
   "outputs": [],
   "source": [
    "def is_digits_even(num):\n",
    "    for digit in  str(num):\n",
    "        if int(digit) % 2 != 0:\n",
    "            return False\n",
    "    return True\n",
    "\n",
    "def find_Even_num(lower_lim,upper_lim):\n",
    "    even_num =[]\n",
    "    for num in range(lower_lim,upper_lim+1):\n",
    "        if is_digits_even(num):\n",
    "            even_num.append(num)\n",
    "    return even_num\n",
    "\n",
    "lower_lim = 1000\n",
    "upper_lim = 3000\n",
    "even_num_list = find_Even_num(lower_lim,upper_lim)\n",
    "print(*even_num_list,sep=\" \")"
   ]
  },
  {
   "cell_type": "markdown",
   "id": "69ea84e4-6bda-4eba-93e6-f08a9bb5ac72",
   "metadata": {},
   "source": [
    "### Problem 11: A robot moves in a plane starting from the original point (0,0). The robot can move toward UP, DOWN, LEFT and RIGHT with a given steps."
   ]
  },
  {
   "cell_type": "code",
   "execution_count": null,
   "id": "3f904dbd-1f79-4004-8fa5-bb54fa85b153",
   "metadata": {},
   "outputs": [],
   "source": [
    "import math \n",
    "def compute_distance(move):\n",
    "    x, y = 0,0\n",
    "    for movement in move:\n",
    "         direction , steps = movement.split()\n",
    "         steps = int(steps)\n",
    "         if direction == \"UP\":\n",
    "            y += steps\n",
    "         elif direction == \"DOWN\":\n",
    "             y -= steps\n",
    "         elif direction == \"LEFT\":\n",
    "             x -= steps\n",
    "         elif direction == \"RIGHT\":\n",
    "             x += steps\n",
    "    distance = math.sqrt(x**2 + y**2)\n",
    "    rounded_distance = round(distance)\n",
    "    print(f\"Distance from (0,) to ({x},{y}) = {rounded_distance}\")\n",
    "move = []\n",
    "num =  int(input(\"Enter the Choice \n",
    "compute_distance(move)\n",
    "     \n",
    "\n",
    "\n"
   ]
  },
  {
   "cell_type": "markdown",
   "id": "7def0283-275e-4406-8e24-d6565641fb97",
   "metadata": {},
   "source": [
    "### Problem 12:Write a program to print whether a given number is a prime number or not"
   ]
  },
  {
   "cell_type": "code",
   "execution_count": null,
   "id": "b6a1ed2e-9ad8-4d28-b078-993fb85ddb95",
   "metadata": {},
   "outputs": [],
   "source": [
    "def is_prime(num):\n",
    "    if num <= 1:\n",
    "        return False\n",
    "    for i in range(2, int(num ** 0.5) + 1):\n",
    "        if num % i == 0:\n",
    "            return False\n",
    "    return True\n",
    "\n",
    "number_to_check = int(input(\"Enter the number to check :\"))\n",
    "if is_prime(number_to_check):\n",
    "    print(f\"{number_to_check} is a prime number \")\n",
    "else:\n",
    "    print(f\"{number_to_check} is not a prime number\") \n",
    "    "
   ]
  },
  {
   "cell_type": "markdown",
   "id": "46f188a1-1a77-4055-a859-1c0855f3bbf5",
   "metadata": {},
   "source": [
    "### Problem 13:Print all the Armstrong numbers in a given range.\n",
    "Range will be provided by the user\n",
    "Armstrong number is a number that is equal to the sum of cubes of its digits. For example 0, 1, 153, 370, 371 and 407 are the Armstrong numbers."
   ]
  },
  {
   "cell_type": "code",
   "execution_count": null,
   "id": "4e5fd83b-38bf-4ebe-8ef1-3bca010f2d30",
   "metadata": {},
   "outputs": [],
   "source": [
    "def is_armstrong(num):\n",
    "    order =len(str(num))\n",
    "    sum_of_powers  = sum(int(digit)** order for digit in str(num))\n",
    "    return sum_of_powers == num\n",
    "\n",
    "number_to_check = int(input(\"Enter the upper limit to check armstring number :\"))\n",
    "if is_armstrong(number_to_check):\n",
    "    print(f\"{number_to_check} is an armstrong number \")\n",
    "else:\n",
    "    print(f\" {number_to_check} is not a armstrong number \")"
   ]
  },
  {
   "cell_type": "code",
   "execution_count": 1,
   "id": "d061c507-3f48-4587-bbb5-7e11b28b673d",
   "metadata": {},
   "outputs": [
    {
     "name": "stdin",
     "output_type": "stream",
     "text": [
      "Enter the start of the range : 1\n",
      "Enter the end of the range : 876654\n"
     ]
    },
    {
     "name": "stdout",
     "output_type": "stream",
     "text": [
      "Armstrong numbers between 1 and 876654 : [1, 2, 3, 4, 5, 6, 7, 8, 9, 153, 370, 371, 407, 1634, 8208, 9474, 54748, 92727, 93084, 548834] \n"
     ]
    }
   ],
   "source": [
    "def is_armstrong(number):\n",
    "    num_str = str(number)\n",
    "    num_digits = len(num_str)\n",
    "    digit_sum = sum(int(digit) ** num_digits for digit in num_str)\n",
    "    return digit_sum == number\n",
    "\n",
    "def find_armstrong_numbers(upper_lim,lower_lim):\n",
    "    armstrong_numbers = []\n",
    "    for num in range (upper_lim,lower_lim+1):\n",
    "        if is_armstrong(num):\n",
    "            armstrong_numbers.append(num)\n",
    "    return armstrong_numbers\n",
    "upper_lim = int(input(\"Enter the start of the range :\"))\n",
    "lower_lim = int(input(\"Enter the end of the range :\"))\n",
    "res = find_armstrong_numbers(upper_lim,lower_lim)\n",
    "print(f\"Armstrong numbers between {upper_lim} and {lower_lim} : {res} \")\n"
   ]
  },
  {
   "cell_type": "markdown",
   "id": "bd80fefa-44c8-47de-acf5-93558251fb3b",
   "metadata": {},
   "source": [
    "### Problem 14:Calculate the angle between the hour hand and minute hand.\n",
    "Note: There can be two angles between hands; we need to print a minimum of two. Also, we need to print the floor of the final result angle. For example, if the final angle is 10.61, we need to print 10.\n",
    "\n",
    "Input:\n",
    "H = 9 , M = 0\n",
    "Output:\n",
    "90\n",
    "Explanation:\n",
    "The minimum angle between hour and minute hand when the time is 9 is 90 degress."
   ]
  },
  {
   "cell_type": "code",
   "execution_count": 14,
   "id": "f155a850-46da-440e-a232-b85ab741fa65",
   "metadata": {},
   "outputs": [
    {
     "name": "stdin",
     "output_type": "stream",
     "text": [
      "Enter the hour angle : 4\n",
      "Enter the minute angle : 9\n"
     ]
    },
    {
     "name": "stdout",
     "output_type": "stream",
     "text": [
      "70\n"
     ]
    }
   ],
   "source": [
    "def calc_angle(h, m):\n",
    "    if h < 0 or m < 0 or h > 12 or m > 60:\n",
    "        print(\"Wrong input\")\n",
    "        return\n",
    "\n",
    "    if h == 12:\n",
    "        h = 0\n",
    "    if m == 60:\n",
    "        m = 0\n",
    "        h += 1\n",
    "        if h > 12:\n",
    "            h -= 12\n",
    "\n",
    "    hour_angle = 0.5 * (h * 60 + m)\n",
    "    minute_angle = 6 * m\n",
    "    angle = abs(hour_angle-minute_angle)\n",
    "    angle = min(360 - angle,angle)\n",
    "    print(int(angle))\n",
    "\n",
    "hour = int(input(\"Enter the hour angle :\"))\n",
    "minute = int(input(\"Enter the minute angle :\"))\n",
    "calc_angle(hour,minute)"
   ]
  },
  {
   "cell_type": "markdown",
   "id": "c84a5a9e-c221-4ce2-b839-dd389dbea98f",
   "metadata": {},
   "source": [
    "### Problem 15:Given two rectangles, find if the given two rectangles overlap or not. A rectangle is denoted by providing the x and y coordinates of two points: the left top corner and the right bottom corner of the rectangle. Two rectangles sharing a side are considered overlapping. (L1 and R1 are the extreme points of the first rectangle and L2 and R2 are the extreme points of the second rectangle)"
   ]
  },
  {
   "cell_type": "code",
   "execution_count": 19,
   "id": "34672d0c-5e05-4364-bf85-4a45646a21fe",
   "metadata": {},
   "outputs": [
    {
     "ename": "NameError",
     "evalue": "name 'Point' is not defined",
     "output_type": "error",
     "traceback": [
      "\u001b[1;31m---------------------------------------------------------------------------\u001b[0m",
      "\u001b[1;31mNameError\u001b[0m                                 Traceback (most recent call last)",
      "Cell \u001b[1;32mIn[19], line 8\u001b[0m\n\u001b[0;32m      5\u001b[0m         \u001b[38;5;28;01mreturn\u001b[39;00m \u001b[38;5;28;01mFalse\u001b[39;00m\n\u001b[0;32m      6\u001b[0m     \u001b[38;5;28;01mreturn\u001b[39;00m true\n\u001b[1;32m----> 8\u001b[0m L1 \u001b[38;5;241m=\u001b[39m Point(\u001b[38;5;241m0\u001b[39m,\u001b[38;5;241m10\u001b[39m)\n\u001b[0;32m      9\u001b[0m R1 \u001b[38;5;241m=\u001b[39m Point(\u001b[38;5;241m10\u001b[39m,\u001b[38;5;241m0\u001b[39m)\n\u001b[0;32m     10\u001b[0m L2 \u001b[38;5;241m=\u001b[39m Point(\u001b[38;5;241m5\u001b[39m,\u001b[38;5;241m5\u001b[39m)\n",
      "\u001b[1;31mNameError\u001b[0m: name 'Point' is not defined"
     ]
    }
   ],
   "source": [
    "def do_overlap(L1,R1,L2,R2):\n",
    "    if R1.x <L2.x or L1.x > R2.x:\n",
    "        return False\n",
    "    if R1.y > L2.y or L1.y < R2.y:\n",
    "        return False\n",
    "    return true\n",
    "\n",
    "L1 = Point(0,10)\n",
    "R1 = Point(10,0)\n",
    "L2 = Point(5,5)\n",
    "R2 = Point(15,0)\n",
    "\n",
    "if do_overlap(L1,R1,L2,R2):\n",
    "    print(\"Rectangles overlap.\")\n",
    "else:\n",
    "    print(\"Rectangles do not overlap.\")"
   ]
  },
  {
   "cell_type": "code",
   "execution_count": 21,
   "id": "d17629f1-b786-4672-a1f0-05906135ce01",
   "metadata": {},
   "outputs": [
    {
     "ename": "NameError",
     "evalue": "name 'Point' is not defined",
     "output_type": "error",
     "traceback": [
      "\u001b[1;31m---------------------------------------------------------------------------\u001b[0m",
      "\u001b[1;31mNameError\u001b[0m                                 Traceback (most recent call last)",
      "Cell \u001b[1;32mIn[21], line 13\u001b[0m\n\u001b[0;32m     10\u001b[0m     \u001b[38;5;28;01mreturn\u001b[39;00m \u001b[38;5;28;01mTrue\u001b[39;00m\n\u001b[0;32m     12\u001b[0m \u001b[38;5;66;03m# Example usage\u001b[39;00m\n\u001b[1;32m---> 13\u001b[0m L1 \u001b[38;5;241m=\u001b[39m Point(\u001b[38;5;241m0\u001b[39m, \u001b[38;5;241m10\u001b[39m)\n\u001b[0;32m     14\u001b[0m R1 \u001b[38;5;241m=\u001b[39m Point(\u001b[38;5;241m10\u001b[39m, \u001b[38;5;241m0\u001b[39m)\n\u001b[0;32m     15\u001b[0m L2 \u001b[38;5;241m=\u001b[39m Point(\u001b[38;5;241m5\u001b[39m, \u001b[38;5;241m5\u001b[39m)\n",
      "\u001b[1;31mNameError\u001b[0m: name 'Point' is not defined"
     ]
    }
   ],
   "source": [
    "class Point:\n",
    "    def __init__(self,x,y):\n",
    "        self.x\n",
    "def do_overlap(L1, R1, L2, R2):\n",
    "    # Check for vertical separation\n",
    "    if R1.x < L2.x or L1.x > R2.x:\n",
    "        return False\n",
    "\n",
    "    # Check for horizontal separation\n",
    "    if R1.y > L2.y or L1.y < R2.y:\n",
    "        return False\n",
    "\n",
    "    return True\n",
    "\n",
    "# Example usage\n",
    "L1 = Point(0, 10)\n",
    "R1 = Point(10, 0)\n",
    "L2 = Point(5, 5)\n",
    "R2 = Point(15, 0)\n",
    "\n",
    "if do_overlap(L1, R1, L2, R2):\n",
    "    print(\"Rectangles Overlap\")\n",
    "else:\n",
    "    print(\"Rectangles Don't Overlap\")\n"
   ]
  },
  {
   "cell_type": "code",
   "execution_count": null,
   "id": "d4ae4650-4c37-4101-85d7-28771d4c349a",
   "metadata": {},
   "outputs": [],
   "source": []
  }
 ],
 "metadata": {
  "kernelspec": {
   "display_name": "Python 3 (ipykernel)",
   "language": "python",
   "name": "python3"
  },
  "language_info": {
   "codemirror_mode": {
    "name": "ipython",
    "version": 3
   },
   "file_extension": ".py",
   "mimetype": "text/x-python",
   "name": "python",
   "nbconvert_exporter": "python",
   "pygments_lexer": "ipython3",
   "version": "3.11.7"
  }
 },
 "nbformat": 4,
 "nbformat_minor": 5
}
